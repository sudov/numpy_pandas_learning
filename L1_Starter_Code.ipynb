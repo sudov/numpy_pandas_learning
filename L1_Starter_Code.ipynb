{
 "cells": [
  {
   "cell_type": "markdown",
   "metadata": {},
   "source": [
    "Before we get started, a couple of reminders to keep in mind when using iPython notebooks:\n",
    "\n",
    "- Remember that you can see from the left side of a code cell when it was last run if there is a number within the brackets.\n",
    "- When you start a new notebook session, make sure you run all of the cells up to the point where you last left off. Even if the output is still visible from when you ran the cells in your previous session, the kernel starts in a fresh state so you'll need to reload the data, etc. on a new session.\n",
    "- The previous point is useful to keep in mind if your answers do not match what is expected in the lesson's quizzes. Try reloading the data and run all of the processing steps one by one in order to make sure that you are working with the same variables and data that are at each quiz stage.\n",
    "\n",
    "\n",
    "## Load Data from CSVs"
   ]
  },
  {
   "cell_type": "code",
   "execution_count": 2,
   "metadata": {
    "collapsed": true
   },
   "outputs": [],
   "source": [
    "import unicodecsv\n",
    "\n",
    "## Longer version of code (replaced with shorter, equivalent version below)\n",
    "\n",
    "# enrollments = []\n",
    "# f = open('enrollments.csv', 'rb')\n",
    "# reader = unicodecsv.DictReader(f)\n",
    "# for row in reader:\n",
    "#     enrollments.append(row)\n",
    "# f.close()\n",
    "\n",
    "with open('enrollments.csv', 'rb') as f:\n",
    "    reader = unicodecsv.DictReader(f)\n",
    "    enrollments = list(reader)"
   ]
  },
  {
   "cell_type": "code",
   "execution_count": 3,
   "metadata": {},
   "outputs": [
    {
     "name": "stdout",
     "output_type": "stream",
     "text": [
      "{u'lessons_completed': u'0.0', u'num_courses_visited': u'1.0', u'total_minutes_visited': u'11.6793745', u'projects_completed': u'0.0', u'acct': u'0', u'utc_date': u'2015-01-09'}\n",
      "{u'lesson_key': u'3176718735', u'processing_state': u'EVALUATED', u'account_key': u'256', u'assigned_rating': u'UNGRADED', u'completion_date': u'2015-01-16', u'creation_date': u'2015-01-14'}\n"
     ]
    }
   ],
   "source": [
    "#####################################\n",
    "#                 1                 #\n",
    "#####################################\n",
    "\n",
    "## Read in the data from daily_engagement.csv and project_submissions.csv \n",
    "## and store the results in the below variables.\n",
    "## Then look at the first row of each table.\n",
    "import unicodecsv\n",
    "\n",
    "with open('daily_engagement.csv', 'rb') as f:\n",
    "    reader1 = unicodecsv.DictReader(f)\n",
    "    daily_engagement = list(reader1)\n",
    "print daily_engagement[0]\n",
    "    \n",
    "with open('project_submissions.csv', 'rb') as f:\n",
    "    reader2 = unicodecsv.DictReader(f)\n",
    "    project_submissions = list(reader2)\n",
    "print project_submissions[0]"
   ]
  },
  {
   "cell_type": "markdown",
   "metadata": {},
   "source": [
    "## Fixing Data Types"
   ]
  },
  {
   "cell_type": "code",
   "execution_count": 4,
   "metadata": {},
   "outputs": [
    {
     "data": {
      "text/plain": [
       "{u'account_key': u'448',\n",
       " u'cancel_date': datetime.datetime(2015, 1, 14, 0, 0),\n",
       " u'days_to_cancel': 65,\n",
       " u'is_canceled': True,\n",
       " u'is_udacity': True,\n",
       " u'join_date': datetime.datetime(2014, 11, 10, 0, 0),\n",
       " u'status': u'canceled'}"
      ]
     },
     "execution_count": 4,
     "metadata": {},
     "output_type": "execute_result"
    }
   ],
   "source": [
    "from datetime import datetime as dt\n",
    "\n",
    "# Takes a date as a string, and returns a Python datetime object. \n",
    "# If there is no date given, returns None\n",
    "def parse_date(date):\n",
    "    if date == '':\n",
    "        return None\n",
    "    else:\n",
    "        return dt.strptime(date, '%Y-%m-%d')\n",
    "    \n",
    "# Takes a string which is either an empty string or represents an integer,\n",
    "# and returns an int or None.\n",
    "def parse_maybe_int(i):\n",
    "    if i == '':\n",
    "        return None\n",
    "    else:\n",
    "        return int(i)\n",
    "\n",
    "# Clean up the data types in the enrollments table\n",
    "for enrollment in enrollments:\n",
    "    enrollment['cancel_date'] = parse_date(enrollment['cancel_date'])\n",
    "    enrollment['days_to_cancel'] = parse_maybe_int(enrollment['days_to_cancel'])\n",
    "    enrollment['is_canceled'] = enrollment['is_canceled'] == 'True'\n",
    "    enrollment['is_udacity'] = enrollment['is_udacity'] == 'True'\n",
    "    enrollment['join_date'] = parse_date(enrollment['join_date'])\n",
    "    \n",
    "enrollments[0]"
   ]
  },
  {
   "cell_type": "code",
   "execution_count": 5,
   "metadata": {},
   "outputs": [
    {
     "data": {
      "text/plain": [
       "{u'acct': u'0',\n",
       " u'lessons_completed': 0,\n",
       " u'num_courses_visited': 1,\n",
       " u'projects_completed': 0,\n",
       " u'total_minutes_visited': 11.6793745,\n",
       " u'utc_date': datetime.datetime(2015, 1, 9, 0, 0)}"
      ]
     },
     "execution_count": 5,
     "metadata": {},
     "output_type": "execute_result"
    }
   ],
   "source": [
    "# Clean up the data types in the engagement table\n",
    "for engagement_record in daily_engagement:\n",
    "    engagement_record['lessons_completed'] = int(float(engagement_record['lessons_completed']))\n",
    "    engagement_record['num_courses_visited'] = int(float(engagement_record['num_courses_visited']))\n",
    "    engagement_record['projects_completed'] = int(float(engagement_record['projects_completed']))\n",
    "    engagement_record['total_minutes_visited'] = float(engagement_record['total_minutes_visited'])\n",
    "    engagement_record['utc_date'] = parse_date(engagement_record['utc_date'])\n",
    "    \n",
    "daily_engagement[0]"
   ]
  },
  {
   "cell_type": "code",
   "execution_count": 6,
   "metadata": {},
   "outputs": [
    {
     "data": {
      "text/plain": [
       "{u'account_key': u'256',\n",
       " u'assigned_rating': u'UNGRADED',\n",
       " u'completion_date': datetime.datetime(2015, 1, 16, 0, 0),\n",
       " u'creation_date': datetime.datetime(2015, 1, 14, 0, 0),\n",
       " u'lesson_key': u'3176718735',\n",
       " u'processing_state': u'EVALUATED'}"
      ]
     },
     "execution_count": 6,
     "metadata": {},
     "output_type": "execute_result"
    }
   ],
   "source": [
    "# Clean up the data types in the submissions table\n",
    "for submission in project_submissions:\n",
    "    submission['completion_date'] = parse_date(submission['completion_date'])\n",
    "    submission['creation_date'] = parse_date(submission['creation_date'])\n",
    "\n",
    "project_submissions[0]"
   ]
  },
  {
   "cell_type": "markdown",
   "metadata": {},
   "source": [
    "Note when running the above cells that we are actively changing the contents of our data variables. If you try to run these cells multiple times in the same session, an error will occur.\n",
    "\n",
    "## Investigating the Data"
   ]
  },
  {
   "cell_type": "code",
   "execution_count": 7,
   "metadata": {
    "scrolled": true
   },
   "outputs": [
    {
     "name": "stdout",
     "output_type": "stream",
     "text": [
      "1640\n",
      "136240\n",
      "3642\n",
      "1302\n",
      "1237\n",
      "743\n"
     ]
    }
   ],
   "source": [
    "#####################################\n",
    "#                 2                 #\n",
    "#####################################\n",
    "\n",
    "## Find the total number of rows and the number of unique students (account keys)\n",
    "## in each table.\n",
    "enrollment_num_rows = len(enrollments) \n",
    "list_of_unique_enrl_keys = []\n",
    "for item in enrollments:\n",
    "    if(int(item.get('account_key')) not in list_of_unique_enrl_keys):\n",
    "        list_of_unique_enrl_keys.append(int(item.get('account_key')))\n",
    "enrollment_num_unique_students = len(list_of_unique_enrl_keys)\n",
    "\n",
    "engagement_num_rows = len(daily_engagement)\n",
    "list_of_unique_eng_keys = []\n",
    "for item in daily_engagement:\n",
    "    if(int(item.get('acct')) not in list_of_unique_eng_keys):\n",
    "        list_of_unique_eng_keys.append(int(item.get('acct')))\n",
    "engagement_num_unique_students = len(list_of_unique_eng_keys)\n",
    "\n",
    "submission_num_rows = len(project_submissions)             \n",
    "list_of_unique_keys = []\n",
    "for item in project_submissions:\n",
    "    if(int(item.get('account_key')) not in list_of_unique_keys):\n",
    "        list_of_unique_keys.append(int(item.get('account_key')))\n",
    "submission_num_unique_students = len(list_of_unique_keys)\n",
    "\n",
    "print enrollment_num_rows\n",
    "print engagement_num_rows\n",
    "print submission_num_rows\n",
    "\n",
    "print enrollment_num_unique_students\n",
    "print engagement_num_unique_students\n",
    "print submission_num_unique_students\n",
    "\n"
   ]
  },
  {
   "cell_type": "markdown",
   "metadata": {},
   "source": [
    "## Problems in the Data"
   ]
  },
  {
   "cell_type": "code",
   "execution_count": 8,
   "metadata": {
    "collapsed": true
   },
   "outputs": [],
   "source": [
    "#####################################\n",
    "#                 3                 #\n",
    "#####################################\n",
    "\n",
    "## Rename the \"acct\" column in the daily_engagement table to \"account_key\".\n",
    "for item in daily_engagement:\n",
    "    item['account_key'] = item.pop('acct')"
   ]
  },
  {
   "cell_type": "markdown",
   "metadata": {},
   "source": [
    "## Missing Engagement Records"
   ]
  },
  {
   "cell_type": "code",
   "execution_count": 9,
   "metadata": {},
   "outputs": [
    {
     "name": "stdout",
     "output_type": "stream",
     "text": [
      "3\n"
     ]
    }
   ],
   "source": [
    "#####################################\n",
    "#                 4                 #\n",
    "#####################################\n",
    "\n",
    "## Find any one student enrollments where the student is missing from the daily engagement table.\n",
    "## Output that enrollment.\n",
    "\n",
    "# Here the goal is to get the account ids of accounts in the enrollment list where the student is \n",
    "# enrolled greater than 1 day and none of the times are 'None' and where the enrolled student is \n",
    "# not in the list of accounts in the engagement table \n",
    "\n",
    "good_enrollments = []\n",
    "\n",
    "for item in enrollments:    \n",
    "    if item.get('join_date') != item.get('cancel_date') and item.get('days_to_cancel') != 'None':\n",
    "        good_enrollments.append(item.get('account_key'))\n",
    "\n",
    "bad_ids = []\n",
    "for pid in good_enrollments:\n",
    "    if int(pid) not in list_of_unique_eng_keys:\n",
    "        bad_ids.append(int(pid))\n",
    "\n",
    "print len(bad_ids)"
   ]
  },
  {
   "cell_type": "markdown",
   "metadata": {},
   "source": [
    "## Checking for More Problem Records"
   ]
  },
  {
   "cell_type": "code",
   "execution_count": 10,
   "metadata": {},
   "outputs": [
    {
     "name": "stdout",
     "output_type": "stream",
     "text": [
      "3\n"
     ]
    }
   ],
   "source": [
    "#####################################\n",
    "#                 5                 #\n",
    "#####################################\n",
    "\n",
    "## Find the number of surprising data points (enrollments missing from\n",
    "## the engagement table) that remain, if any.\n",
    "\n",
    "test_enrolment_ids = []\n",
    "for item in enrollments:\n",
    "    if item.get('is_udacity') and int(item.get('account_key')) not in test_enrolment_ids:\n",
    "        test_enrolment_ids.append(int(item.get('account_key')))\n",
    "\n",
    "bad_ids = []\n",
    "num_problem_students = 0\n",
    "for item in daily_engagement:\n",
    "    if int(item.get('account_key')) in test_enrolment_ids and int(item.get('account_key')) not in bad_ids:\n",
    "        bad_ids.append(int(item.get('account_key')))\n",
    "\n",
    "num_problem_students = len(bad_ids)\n",
    "print num_problem_students"
   ]
  },
  {
   "cell_type": "markdown",
   "metadata": {},
   "source": [
    "## Tracking Down the Remaining Problems"
   ]
  },
  {
   "cell_type": "code",
   "execution_count": 11,
   "metadata": {},
   "outputs": [
    {
     "data": {
      "text/plain": [
       "6"
      ]
     },
     "execution_count": 11,
     "metadata": {},
     "output_type": "execute_result"
    }
   ],
   "source": [
    "# Create a set of the account keys for all Udacity test accounts\n",
    "udacity_test_accounts = set()\n",
    "for enrollment in enrollments:\n",
    "    if enrollment['is_udacity']:\n",
    "        udacity_test_accounts.add(enrollment['account_key'])\n",
    "len(udacity_test_accounts)"
   ]
  },
  {
   "cell_type": "code",
   "execution_count": 12,
   "metadata": {
    "collapsed": true
   },
   "outputs": [],
   "source": [
    "# Given some data with an account_key field, removes any records corresponding to Udacity test accounts\n",
    "def remove_udacity_accounts(data):\n",
    "    non_udacity_data = []\n",
    "    for data_point in data:\n",
    "        if data_point['account_key'] not in udacity_test_accounts:\n",
    "            non_udacity_data.append(data_point)\n",
    "    return non_udacity_data"
   ]
  },
  {
   "cell_type": "code",
   "execution_count": 13,
   "metadata": {},
   "outputs": [
    {
     "name": "stdout",
     "output_type": "stream",
     "text": [
      "1622\n",
      "135656\n",
      "3634\n"
     ]
    }
   ],
   "source": [
    "# Remove Udacity test accounts from all three tables\n",
    "non_udacity_enrollments = remove_udacity_accounts(enrollments)\n",
    "non_udacity_engagement = remove_udacity_accounts(daily_engagement)\n",
    "non_udacity_submissions = remove_udacity_accounts(project_submissions)\n",
    "\n",
    "print len(non_udacity_enrollments)\n",
    "print len(non_udacity_engagement)\n",
    "print len(non_udacity_submissions)"
   ]
  },
  {
   "cell_type": "markdown",
   "metadata": {},
   "source": [
    "## Refining the Question"
   ]
  },
  {
   "cell_type": "code",
   "execution_count": 14,
   "metadata": {},
   "outputs": [
    {
     "data": {
      "text/plain": [
       "995"
      ]
     },
     "execution_count": 14,
     "metadata": {},
     "output_type": "execute_result"
    }
   ],
   "source": [
    "#####################################\n",
    "#                 6                 #\n",
    "#####################################\n",
    "\n",
    "## Create a dictionary named paid_students containing all students who either\n",
    "## haven't canceled yet or who remained enrolled for more than 7 days. The keys\n",
    "## should be account keys, and the values should be the date the student enrolled.\n",
    "\n",
    "paid_students = {}\n",
    "\n",
    "for enrollment in non_udacity_enrollments:\n",
    "    if not enrollment['is_canceled'] or enrollment['days_to_cancel'] > 7:\n",
    "        account_key = enrollment['account_key']\n",
    "        enrollment_date = enrollment['join_date']\n",
    "        \n",
    "        if account_key not in paid_students or enrollment_date > paid_students[account_key]:\n",
    "            paid_students[account_key] = enrollment_date\n",
    "                \n",
    "len(paid_students)"
   ]
  },
  {
   "cell_type": "markdown",
   "metadata": {},
   "source": [
    "## Getting Data from First Week"
   ]
  },
  {
   "cell_type": "code",
   "execution_count": 15,
   "metadata": {
    "collapsed": true
   },
   "outputs": [],
   "source": [
    "# Takes a student's join date and the date of a specific engagement record,\n",
    "# and returns True if that engagement record happened within one week\n",
    "# of the student joining.\n",
    "def within_one_week(join_date, engagement_date):\n",
    "    time_delta = engagement_date - join_date \n",
    "    return time_delta.days < 7 and time_delta.days >= 0"
   ]
  },
  {
   "cell_type": "code",
   "execution_count": 16,
   "metadata": {
    "collapsed": true
   },
   "outputs": [],
   "source": [
    "# Function to remove trials\n",
    "def remove_free_trial_cancels(data):\n",
    "    new_data = []\n",
    "    for data_point in data:    \n",
    "        if data_point.get('account_key') in paid_students:\n",
    "            new_data.append(data_point)  \n",
    "    return new_data"
   ]
  },
  {
   "cell_type": "code",
   "execution_count": 17,
   "metadata": {},
   "outputs": [
    {
     "name": "stdout",
     "output_type": "stream",
     "text": [
      "1293\n",
      "134549\n",
      "3618\n"
     ]
    }
   ],
   "source": [
    "paid_enrollments = remove_free_trial_cancels(non_udacity_enrollments)\n",
    "print len(paid_enrollments)\n",
    "\n",
    "paid_engagement = remove_free_trial_cancels(non_udacity_engagement)\n",
    "print len(paid_engagement)\n",
    "\n",
    "paid_submissions = remove_free_trial_cancels(non_udacity_submissions)\n",
    "print len(paid_submissions)"
   ]
  },
  {
   "cell_type": "code",
   "execution_count": 18,
   "metadata": {},
   "outputs": [
    {
     "data": {
      "text/plain": [
       "6919"
      ]
     },
     "execution_count": 18,
     "metadata": {},
     "output_type": "execute_result"
    }
   ],
   "source": [
    "#####################################\n",
    "#                 7                 #\n",
    "#####################################\n",
    "\n",
    "## Create a list of rows from the engagement table including only rows where\n",
    "## the student is one of the paid students you just found, and the date is within\n",
    "## one week of the student's join date.\n",
    "# paid_students is list of paid account keys\n",
    "\n",
    "# need engagement utc_dates where the id is in the paid_students array\n",
    "paid_engagement_in_first_week = []\n",
    "\n",
    "for engagement_record in paid_engagement:\n",
    "    account_key = engagement_record.get('account_key')\n",
    "    join_date = paid_students[account_key]\n",
    "    engagement_record_date = engagement_record.get('utc_date')\n",
    "    \n",
    "    if within_one_week(join_date,engagement_record_date):\n",
    "        paid_engagement_in_first_week.append(engagement_record)\n",
    "\n",
    "len(paid_engagement_in_first_week)\n"
   ]
  },
  {
   "cell_type": "markdown",
   "metadata": {},
   "source": [
    "## Exploring Student Engagement"
   ]
  },
  {
   "cell_type": "code",
   "execution_count": 19,
   "metadata": {
    "collapsed": true
   },
   "outputs": [],
   "source": [
    "from collections import defaultdict\n",
    "\n",
    "# Create a dictionary of engagement grouped by student.\n",
    "# The keys are account keys, and the values are lists of engagement records.\n",
    "engagement_by_account = defaultdict(list)\n",
    "for engagement_record in paid_engagement_in_first_week:\n",
    "    account_key = engagement_record['account_key']\n",
    "    engagement_by_account[account_key].append(engagement_record)"
   ]
  },
  {
   "cell_type": "code",
   "execution_count": 20,
   "metadata": {
    "collapsed": true
   },
   "outputs": [],
   "source": [
    "# Create a dictionary with the total minutes each student spent in the classroom during the first week.\n",
    "# The keys are account keys, and the values are numbers (total minutes)\n",
    "total_minutes_by_account = {}\n",
    "for account_key, engagement_for_student in engagement_by_account.items():\n",
    "    total_minutes = 0\n",
    "    for engagement_record in engagement_for_student:\n",
    "        total_minutes += engagement_record['total_minutes_visited']\n",
    "    total_minutes_by_account[account_key] = total_minutes"
   ]
  },
  {
   "cell_type": "code",
   "execution_count": 21,
   "metadata": {},
   "outputs": [
    {
     "name": "stdout",
     "output_type": "stream",
     "text": [
      "Mean: 306.708326753\n",
      "Standard deviation: 412.996933409\n",
      "Minimum: 0.0\n",
      "Maximum: 3564.7332645\n"
     ]
    }
   ],
   "source": [
    "import numpy as np\n",
    "\n",
    "# Summarize the data about minutes spent in the classroom\n",
    "total_minutes = total_minutes_by_account.values()\n",
    "print 'Mean:', np.mean(total_minutes)\n",
    "print 'Standard deviation:', np.std(total_minutes)\n",
    "print 'Minimum:', np.min(total_minutes)\n",
    "print 'Maximum:', np.max(total_minutes)"
   ]
  },
  {
   "cell_type": "markdown",
   "metadata": {},
   "source": [
    "## Debugging Data Analysis Code"
   ]
  },
  {
   "cell_type": "code",
   "execution_count": 22,
   "metadata": {},
   "outputs": [
    {
     "name": "stdout",
     "output_type": "stream",
     "text": [
      "Bad Account = 163 Time Spent = 3564.7332645\n"
     ]
    }
   ],
   "source": [
    "#####################################\n",
    "#                 8                 #\n",
    "#####################################\n",
    "\n",
    "## Go through a similar process as before to see if there is a problem.\n",
    "## Locate at least one surprising piece of data, output it, and take a look at it.\n",
    "\n",
    "max_time_spent = 0\n",
    "bad_account = 0\n",
    "for account_key, time_spent in total_minutes_by_account.items():\n",
    "    if time_spent > max_time_spent:\n",
    "        max_time_spent = time_spent\n",
    "        bad_account = account_key\n",
    "\n",
    "print \"Bad Account = \" + str(bad_account) + \" Time Spent = \" + str(max_time_spent)"
   ]
  },
  {
   "cell_type": "code",
   "execution_count": 23,
   "metadata": {},
   "outputs": [
    {
     "name": "stdout",
     "output_type": "stream",
     "text": [
      "[{u'lessons_completed': 4, u'num_courses_visited': 4, u'total_minutes_visited': 850.519339666, u'projects_completed': 0, 'account_key': u'163', u'utc_date': datetime.datetime(2015, 7, 9, 0, 0)}, {u'lessons_completed': 6, u'num_courses_visited': 6, u'total_minutes_visited': 872.633923334, u'projects_completed': 0, 'account_key': u'163', u'utc_date': datetime.datetime(2015, 7, 10, 0, 0)}, {u'lessons_completed': 6, u'num_courses_visited': 2, u'total_minutes_visited': 777.018903666, u'projects_completed': 0, 'account_key': u'163', u'utc_date': datetime.datetime(2015, 7, 11, 0, 0)}, {u'lessons_completed': 2, u'num_courses_visited': 1, u'total_minutes_visited': 294.568774, u'projects_completed': 0, 'account_key': u'163', u'utc_date': datetime.datetime(2015, 7, 12, 0, 0)}, {u'lessons_completed': 1, u'num_courses_visited': 3, u'total_minutes_visited': 471.2139785, u'projects_completed': 0, 'account_key': u'163', u'utc_date': datetime.datetime(2015, 7, 13, 0, 0)}, {u'lessons_completed': 1, u'num_courses_visited': 2, u'total_minutes_visited': 298.778345333, u'projects_completed': 0, 'account_key': u'163', u'utc_date': datetime.datetime(2015, 7, 14, 0, 0)}, {u'lessons_completed': 0, u'num_courses_visited': 0, u'total_minutes_visited': 0.0, u'projects_completed': 0, 'account_key': u'163', u'utc_date': datetime.datetime(2015, 7, 15, 0, 0)}]\n"
     ]
    }
   ],
   "source": [
    "bad_engagements = []\n",
    "\n",
    "for engagement in paid_engagement_in_first_week:\n",
    "    if engagement.get('account_key') == bad_account:\n",
    "        bad_engagements.append(engagement)\n",
    "print bad_engagements"
   ]
  },
  {
   "cell_type": "markdown",
   "metadata": {},
   "source": [
    "## Lessons Completed in First Week"
   ]
  },
  {
   "cell_type": "code",
   "execution_count": 24,
   "metadata": {},
   "outputs": [
    {
     "name": "stdout",
     "output_type": "stream",
     "text": [
      "Mean: 1.63618090452\n",
      "Standard deviation: 3.00256129983\n",
      "Minimum: 0\n",
      "Maximum: 36\n"
     ]
    }
   ],
   "source": [
    "#####################################\n",
    "#                 9                 #\n",
    "#####################################\n",
    "\n",
    "## Adapt the code above to find the mean, standard deviation, minimum, and maximum for\n",
    "## the number of lessons completed by each student during the first week. Try creating\n",
    "## one or more functions to re-use the code above.\n",
    "\n",
    "lessons_completed_by_student={}\n",
    "lesson_metrics=[]\n",
    "\n",
    "for account_key, engagement_for_student in engagement_by_account.items():\n",
    "    \n",
    "    lessons_completed = 0\n",
    "    for record in engagement_for_student:\n",
    "        lessons_completed += int(record.get('lessons_completed'))\n",
    "    lesson_metrics.append(lessons_completed)\n",
    "    lessons_completed_by_student[account_key] = lessons_completed\n",
    "    \n",
    "\n",
    "# Summarize the data about lessons completed\n",
    "total_minutes = total_minutes_by_account.values()\n",
    "print 'Mean:', np.mean(lesson_metrics)\n",
    "print 'Standard deviation:', np.std(lesson_metrics)\n",
    "print 'Minimum:', np.min(lesson_metrics)\n",
    "print 'Maximum:', np.max(lesson_metrics)"
   ]
  },
  {
   "cell_type": "markdown",
   "metadata": {},
   "source": [
    "## Number of Visits in First Week"
   ]
  },
  {
   "cell_type": "code",
   "execution_count": 25,
   "metadata": {},
   "outputs": [
    {
     "name": "stdout",
     "output_type": "stream",
     "text": [
      "Mean: 2.86733668342\n",
      "Standard deviation: 2.25519800292\n",
      "Minimum: 0\n",
      "Maximum: 7\n"
     ]
    }
   ],
   "source": [
    "######################################\n",
    "#                 10                 #\n",
    "######################################\n",
    "\n",
    "## Find the mean, standard deviation, minimum, and maximum for the number of\n",
    "## days each student visits the classroom during the first week.\n",
    "days_visited_by_student={}\n",
    "days_visited=[]\n",
    "\n",
    "for account_key, engagement_for_student in engagement_by_account.items():\n",
    "    days = 0\n",
    "    for item in engagement_for_student:\n",
    "        if item['num_courses_visited'] > 0:\n",
    "            days += 1  \n",
    "    days_visited.append(days)\n",
    "    days_visited_by_student[account_key]=days\n",
    "\n",
    "    \n",
    "# Summarize the data about lessons completed\n",
    "total_minutes = total_minutes_by_account.values()\n",
    "\n",
    "print 'Mean:', np.mean(days_visited)\n",
    "print 'Standard deviation:', np.std(days_visited)\n",
    "print 'Minimum:', np.min(days_visited)\n",
    "print 'Maximum:', np.max(days_visited)"
   ]
  },
  {
   "cell_type": "markdown",
   "metadata": {},
   "source": [
    "## Splitting out Passing Students"
   ]
  },
  {
   "cell_type": "code",
   "execution_count": 63,
   "metadata": {},
   "outputs": [
    {
     "name": "stdout",
     "output_type": "stream",
     "text": [
      "Students Passed Subway = 647\n",
      "Students Failed Subway = 98\n",
      "Overlap = 0\n",
      "4527\n",
      "2392\n",
      "0\n"
     ]
    }
   ],
   "source": [
    "######################################\n",
    "#                 11                 #\n",
    "######################################\n",
    "\n",
    "## Create two lists of engagement data for paid students in the first week.\n",
    "## The first list should contain data for students who eventually pass the\n",
    "## subway project, and the second list should contain data for students\n",
    "## who do not.\n",
    "\n",
    "subway_project_lesson_keys = ['746169184', '3176718735']\n",
    "\n",
    "passing_subway = []\n",
    "non_passing_subway_temp = []\n",
    "non_passing_subway = []\n",
    "lesson_ids = []\n",
    "\n",
    "\n",
    "for submission in paid_submissions:\n",
    "    pass_fail = str(submission.get('assigned_rating'))\n",
    "    lesson_key = str(submission.get('lesson_key'))\n",
    "    account_key = int(submission.get('account_key'))\n",
    "    \n",
    "    if lesson_key not in lesson_ids:\n",
    "        lesson_ids.append(str(submission.get('lesson_key')))\n",
    "    \n",
    "    if lesson_key in subway_project_lesson_keys and \\\n",
    "        (pass_fail == 'PASSED' or pass_fail == 'DISTINCTION') and \\\n",
    "        account_key not in passing_subway:\n",
    "        passing_subway.append(account_key)\n",
    "        \n",
    "    elif pass_fail != 'PASSED' and pass_fail != 'DISTINCTION' and\\\n",
    "        str(submission.get('assigned_rating')) != 'UNGRADED':\n",
    "        non_passing_subway_temp.append(account_key)\n",
    "    \n",
    "for submission in non_passing_subway_temp:\n",
    "    if submission not in passing_subway:\n",
    "        non_passing_subway.append(submission)\n",
    "\n",
    "        \n",
    "        \n",
    "print \"Students Passed Subway = \" + str(len(passing_subway))\n",
    "print \"Students Failed Subway = \" + str(len(non_passing_subway))\n",
    "print \"Overlap = \" + str(len([i for i in passing_subway if i in non_passing_subway]))\n",
    "    \n",
    "passing_engagement = []\n",
    "non_passing_engagement = []\n",
    "\n",
    "for engagement in paid_engagement_in_first_week:\n",
    "    acc_key = int(engagement.get('account_key'))\n",
    "    if acc_key in passing_subway:\n",
    "        passing_engagement.append(acc_key)\n",
    "    else:\n",
    "        non_passing_engagement.append(acc_key)\n",
    "\n",
    "print len(passing_engagement)\n",
    "print len(non_passing_engagement)\n",
    "print len([i for i in passing_engagement if i in non_passing_engagement])"
   ]
  },
  {
   "cell_type": "raw",
   "metadata": {},
   "source": [
    "## Comparing the Two Student Groups"
   ]
  },
  {
   "cell_type": "code",
   "execution_count": 104,
   "metadata": {},
   "outputs": [
    {
     "name": "stdout",
     "output_type": "stream",
     "text": [
      "Minutes Spent in Classrom:\n",
      "\n",
      "------------------------------------------------\n",
      "Passing Metrics:\n",
      "Mean Passing: 394.586046484\n",
      "Standard deviation: 448.499519327\n",
      "Minimum: 0.0\n",
      "Maximum: 3564.7332645\n",
      "------------------------------------------------\n",
      "Non-Passing Metrics:\n",
      "Mean Non-Passing: 143.326474267\n",
      "Standard deviation: 269.538619011\n",
      "Minimum: 0.0\n",
      "Maximum: 1768.52274933\n",
      "\n",
      "\n",
      "Student Lesson Count:\n",
      "\n",
      "------------------------------------------------\n",
      "Passing Metrics:\n",
      "Mean Passing: 2.05255023184\n",
      "Standard deviation: 3.14222705558\n",
      "Minimum: 0\n",
      "Maximum: 36\n",
      "------------------------------------------------\n",
      "Non-Passing Metrics:\n",
      "Mean Non-Passing: 0.862068965517\n",
      "Standard deviation: 2.54915994183\n",
      "Minimum: 0\n",
      "Maximum: 27\n",
      "\n",
      "\n",
      "Student Days Visited:\n",
      "\n",
      "------------------------------------------------\n",
      "Passing Metrics:\n",
      "Mean Passing: 3.38485316847\n",
      "Standard deviation: 2.25882147092\n",
      "Minimum: 0\n",
      "Maximum: 7\n",
      "------------------------------------------------\n",
      "Non-Passing Metrics:\n",
      "Mean Non-Passing: 1.90517241379\n",
      "Standard deviation: 1.90573144136\n",
      "Minimum: 0\n",
      "Maximum: 7\n"
     ]
    }
   ],
   "source": [
    "######################################\n",
    "#                 12                 #\n",
    "######################################\n",
    "\n",
    "## Compute some metrics you're interested in and see how they differ for\n",
    "## students who pass the subway project vs. students who don't. A good\n",
    "## starting point would be the metrics we looked at earlier (minutes spent\n",
    "## in the classroom, lessons completed, and days visited).\n",
    "\n",
    "minutes_passing = []\n",
    "minutes_non_passing = []\n",
    "\n",
    "lesson_count_passing = []\n",
    "lesson_count_non_passing = []\n",
    "\n",
    "days_visited_passing = []\n",
    "days_visited_non_passing = []\n",
    "\n",
    "for account_key, engagement_for_student in engagement_by_account.items():\n",
    "    account_key = int(account_key)\n",
    "    minutes = 0\n",
    "    lesson_count = 0\n",
    "    days_visited = 0\n",
    "\n",
    "    if account_key in passing_subway:\n",
    "        for engagement in engagement_for_student:\n",
    "            minutes += float(engagement.get('total_minutes_visited'))\n",
    "            lesson_count += int(engagement.get('lessons_completed'))\n",
    "            if float(engagement.get('total_minutes_visited')) > 0:\n",
    "                days_visited += 1\n",
    "        minutes_passing.append(minutes)\n",
    "        lesson_count_passing.append(lesson_count)\n",
    "        days_visited_passing.append(days_visited)\n",
    "\n",
    "    else:\n",
    "        for engagement in engagement_for_student:\n",
    "            minutes += float(engagement.get('total_minutes_visited'))\n",
    "            lesson_count += int(engagement.get('lessons_completed'))\n",
    "            if float(engagement.get('total_minutes_visited')) > 0:\n",
    "                days_visited += 1\n",
    "        minutes_non_passing.append(minutes)\n",
    "        lesson_count_non_passing.append(lesson_count)\n",
    "        days_visited_non_passing.append(days_visited)\n",
    "        \n",
    "print 'Minutes Spent in Classrom:'\n",
    "print ''\n",
    "print '------------------------------------------------'\n",
    "print 'Passing Metrics:'\n",
    "print 'Mean Passing:', np.mean(minutes_passing)\n",
    "print 'Standard deviation:', np.std(minutes_passing)\n",
    "print 'Minimum:', np.min(minutes_passing)\n",
    "print 'Maximum:', np.max(minutes_passing)\n",
    "\n",
    "print '------------------------------------------------'\n",
    "print 'Non-Passing Metrics:'\n",
    "print 'Mean Non-Passing:', np.mean(minutes_non_passing)\n",
    "print 'Standard deviation:', np.std(minutes_non_passing)\n",
    "print 'Minimum:', np.min(minutes_non_passing)\n",
    "print 'Maximum:', np.max(minutes_non_passing)\n",
    "\n",
    "print ''\n",
    "print ''\n",
    "print 'Student Lesson Count:'\n",
    "print ''\n",
    "print '------------------------------------------------'\n",
    "print 'Passing Metrics:'\n",
    "print 'Mean Passing:', np.mean(lesson_count_passing)\n",
    "print 'Standard deviation:', np.std(lesson_count_passing)\n",
    "print 'Minimum:', np.min(lesson_count_passing)\n",
    "print 'Maximum:', np.max(lesson_count_passing)\n",
    "\n",
    "print '------------------------------------------------'\n",
    "print 'Non-Passing Metrics:'\n",
    "print 'Mean Non-Passing:', np.mean(lesson_count_non_passing)\n",
    "print 'Standard deviation:', np.std(lesson_count_non_passing)\n",
    "print 'Minimum:', np.min(lesson_count_non_passing)\n",
    "print 'Maximum:', np.max(lesson_count_non_passing)\n",
    "\n",
    "print ''\n",
    "print ''\n",
    "print 'Student Days Visited:'\n",
    "print ''\n",
    "print '------------------------------------------------'\n",
    "print 'Passing Metrics:'\n",
    "print 'Mean Passing:', np.mean(days_visited_passing)\n",
    "print 'Standard deviation:', np.std(days_visited_passing)\n",
    "print 'Minimum:', np.min(days_visited_passing)\n",
    "print 'Maximum:', np.max(days_visited_passing)\n",
    "\n",
    "print '------------------------------------------------'\n",
    "print 'Non-Passing Metrics:'\n",
    "print 'Mean Non-Passing:', np.mean(days_visited_non_passing)\n",
    "print 'Standard deviation:', np.std(days_visited_non_passing)\n",
    "print 'Minimum:', np.min(days_visited_non_passing)\n",
    "print 'Maximum:', np.max(days_visited_non_passing)"
   ]
  },
  {
   "cell_type": "markdown",
   "metadata": {},
   "source": [
    "## Making Histograms"
   ]
  },
  {
   "cell_type": "code",
   "execution_count": 115,
   "metadata": {},
   "outputs": [
    {
     "data": {
      "image/png": "[encoded data removed]",
      "text/plain": [
       "<matplotlib.figure.Figure at 0x10fe34e90>"
      ]
     },
     "metadata": {},
     "output_type": "display_data"
    }
   ],
   "source": [
    "######################################\n",
    "#                 13                 #\n",
    "######################################\n",
    "\n",
    "## Make histograms of the three metrics we looked at earlier for both\n",
    "## students who passed the subway project and students who didn't. You\n",
    "## might also want to make histograms of any other metrics you examined.\n",
    "\n",
    "%matplotlib inline \n",
    "# Above is for jupyter to render in the notebook\n",
    "\n",
    "import matplotlib.pyplot as plt\n",
    "import matplotlib.pyplot as plt1\n",
    "\n",
    "fig = plt.figure()\n",
    "ax1 = fig.add_subplot(3, 2, 1)\n",
    "ax2 = fig.add_subplot(3, 2, 2)\n",
    "ax3 = fig.add_subplot(3, 2, 3)\n",
    "ax4 = fig.add_subplot(3, 2, 4)\n",
    "ax5 = fig.add_subplot(3, 2, 5)\n",
    "ax6 = fig.add_subplot(3, 2, 6)\n",
    "\n",
    "ax1 = ax1.hist(minutes_passing)\n",
    "ax2 = ax2.hist(minutes_non_passing)\n",
    "ax3 = ax3.hist(lesson_count_passing)\n",
    "ax4 = ax4.hist(lesson_count_non_passing)\n",
    "ax5 = ax5.hist(days_visited_passing)\n",
    "ax6 = ax6.hist(days_visited_non_passing)"
   ]
  },
  {
   "cell_type": "markdown",
   "metadata": {},
   "source": [
    "## Improving Plots and Sharing Findings"
   ]
  },
  {
   "cell_type": "code",
   "execution_count": null,
   "metadata": {
    "collapsed": true
   },
   "outputs": [],
   "source": [
    "######################################\n",
    "#                 14                 #\n",
    "######################################\n",
    "\n",
    "## Make a more polished version of at least one of your visualizations\n",
    "## from earlier. Try importing the seaborn library to make the visualization\n",
    "## look better, adding axis labels and a title, and changing one or more\n",
    "## arguments to the hist() function."
   ]
  }
 ],
 "metadata": {
  "kernelspec": {
   "display_name": "Python 2",
   "language": "python",
   "name": "python2"
  }
 },
 "nbformat": 4,
 "nbformat_minor": 1
}
