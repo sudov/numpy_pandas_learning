{
 "cells": [
  {
   "cell_type": "code",
   "execution_count": 87,
   "metadata": {},
   "outputs": [],
   "source": [
    "import matplotlib.pyplot as plt\n",
    "import numpy as np\n",
    "import pandas as pd\n",
    "import seaborn as sns\n",
    "\n",
    "filename = 'baseball_core/TeamsFranchises.csv'\n",
    "franchises = pd.read_csv(filename)\n",
    "\n",
    "filename1 = 'baseball_core/Teams.csv'\n",
    "team_perf_historical = pd.read_csv(filename1)\n",
    "\n",
    "# Player Specific Statistics\n",
    "filename2 = 'baseball_core/Salaries.csv'\n",
    "salaries_historical = pd.read_csv(filename2)\n",
    "\n",
    "filename3 = 'baseball_core/Batting.csv'\n",
    "batting_historical = pd.read_csv(filename3)\n",
    "\n",
    "filename4 = 'baseball_core/Pitching.csv'\n",
    "pitching_historical = pd.read_csv(filename4)\n",
    "\n",
    "filename5 = 'baseball_core/Fielding.csv'\n",
    "fielding_historical = pd.read_csv(filename5)\n",
    "\n",
    "filename6 = 'baseball_core/Master.csv'\n",
    "master = pd.read_csv(filename6)"
   ]
  },
  {
   "cell_type": "code",
   "execution_count": 111,
   "metadata": {},
   "outputs": [
    {
     "name": "stdout",
     "output_type": "stream",
     "text": [
      "        playerID  yearID  stint teamID lgID  Games Played  AB  Runs  Hits  2B  \\\n",
      "102533  salech01    2016      1    CHA   AL            32   6     0     1   0   \n",
      "\n",
      "        ...   RBI  SB  CS  BB  Strikeouts  IBB  HBP  SH  SF  GIDP  \n",
      "102533  ...     0   0   0   0           2    0    0   0   0     0  \n",
      "\n",
      "[1 rows x 22 columns]\n",
      "       playerID  yearID  stint teamID lgID   W   L   G  GS  CG  ...   IBB  WP  \\\n",
      "44804  salech01    2016      1    CHA   AL  17  10  32  32   6  ...     2   2   \n",
      "\n",
      "       HBP  BK  BFP  GF   R  SH  SF  GIDP  \n",
      "44804   17   0  907   0  88   5   3    16  \n",
      "\n",
      "[1 rows x 30 columns]\n"
     ]
    }
   ],
   "source": [
    "batting_historical = batting_historical.rename(columns={'R':'Runs', 'H':'Hits', 'HR':'HomerunsScored', 'G':'Games Played'\\\n",
    "                                                        ,'SO':'Strikeouts', 'BB':'BaseOnBalls'})\n",
    "# print batting_historical[batting_historical['yearID']>2015].head(n=2)\n",
    "\n",
    "# pitching_historical = pitching_historical.rename(columns={'G':'Games Played', 'W':'Wins', 'L':'Losses', \\\n",
    "#                                                           'CG':'GamesCompleted', 'H':'Hits', 'HR':'HomerunsAllowed',\\\n",
    "#                                                          'R':'RunsAllowed', 'BB':'Walks'})\n",
    "\n",
    "temp_b = batting_historical[batting_historical['playerID']=='salech01']\n",
    "print temp_b[temp_b['yearID']==2016]\n",
    "\n",
    "temp_p = pitching_historical[pitching_historical['playerID']=='salech01']\n",
    "# print temp_p[['HR','yearID','G']]\n",
    "# print temp_p[temp_p['yearID']==2016]\n",
    "\n",
    "# ----- Extract Player IDs for Debugging -------------\n",
    "# temp = master[master['nameLast']=='Sale']\n",
    "# print temp[temp['nameGiven']=='Christopher']\n",
    "# ----- Results ----- \n",
    "# David Ortiz - ortizda01\n",
    "# Chris Sale - salech01"
   ]
  },
  {
   "cell_type": "code",
   "execution_count": 76,
   "metadata": {
    "scrolled": true
   },
   "outputs": [],
   "source": [
    "temp_sal = salaries_historical[salaries_historical['yearID'] > 2015]\n",
    "temp_bat = batting_historical[batting_historical['yearID'] > 2015]\n",
    "temp_pitch = pitching_historical[pitching_historical['yearID'] > 2015]\n",
    "\n",
    "temp = pd.merge(temp_sal, temp_bat, on=['playerID', 'yearID', 'teamID', 'lgID', 'Games Played', 'stint'], how='inner').head(n=5)\n",
    "# print temp"
   ]
  },
  {
   "cell_type": "code",
   "execution_count": null,
   "metadata": {
    "collapsed": true
   },
   "outputs": [],
   "source": []
  },
  {
   "cell_type": "code",
   "execution_count": null,
   "metadata": {
    "collapsed": true
   },
   "outputs": [],
   "source": []
  }
 ],
 "metadata": {
  "kernelspec": {
   "display_name": "Python 2",
   "language": "python",
   "name": "python2"
  },
  "language_info": {
   "codemirror_mode": {
    "name": "ipython",
    "version": 2
   },
   "file_extension": ".py",
   "mimetype": "text/x-python",
   "name": "python",
   "nbconvert_exporter": "python",
   "pygments_lexer": "ipython2",
   "version": "2.7.13"
  }
 },
 "nbformat": 4,
 "nbformat_minor": 2
}
