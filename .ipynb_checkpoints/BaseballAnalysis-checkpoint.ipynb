{
 "cells": [
  {
   "cell_type": "code",
   "execution_count": 1,
   "metadata": {
    "collapsed": true
   },
   "outputs": [],
   "source": [
    "import matplotlib.pyplot as plt\n",
    "import numpy as np\n",
    "import pandas as pd\n",
    "import seaborn as sns\n",
    "\n",
    "filename = 'baseball_core/TeamsFranchises.csv'\n",
    "franchises = pd.read_csv(filename)\n",
    "\n",
    "filename1 = 'baseball_core/Teams.csv'\n",
    "team_perf_historical = pd.read_csv(filename1)\n",
    "\n",
    "# Player Specific Statistics\n",
    "filename2 = 'baseball_core/Salaries.csv'\n",
    "salaries_historical = pd.read_csv(filename2)\n",
    "\n",
    "filename3 = 'baseball_core/Batting.csv'\n",
    "batting_historical = pd.read_csv(filename3)\n",
    "\n",
    "filename4 = 'baseball_core/Pitching.csv'\n",
    "pitching_historical = pd.read_csv(filename4)\n",
    "\n",
    "filename5 = 'baseball_core/Fielding.csv'\n",
    "fielding_historical = pd.read_csv(filename5)\n",
    "\n",
    "filename6 = 'baseball_core/Master.csv'\n",
    "master = pd.read_csv(filename6)\n",
    "\n",
    "filename7 = 'baseball_core/AllstarFull.csv'\n",
    "allstar_historical = pd.read_csv(filename7)"
   ]
  },
  {
   "cell_type": "code",
   "execution_count": 2,
   "metadata": {},
   "outputs": [
    {
     "name": "stdout",
     "output_type": "stream",
     "text": [
      "        playerID  yearID  stint teamID lgID POS   G  GS  InnOuts  PO   A  E  \\\n",
      "136451  salech01    2016      1    CHA   AL   P  32  32      680  12  19  0   \n",
      "\n",
      "        DP  PB  WP  SB  CS  ZR  \n",
      "136451   1 NaN NaN NaN NaN NaN  \n"
     ]
    }
   ],
   "source": [
    "# ----- Extract Player IDs for Debugging -------------\n",
    "# temp = master[master['nameLast']=='Sale']\n",
    "# print temp[temp['nameGiven']=='Christopher']\n",
    "# ----- Results ----- \n",
    "# David Ortiz - ortizda01\n",
    "# Chris Sale - salech01\n",
    "\n",
    "# --------- Does the Data Make Sense? ----------------\n",
    "temp_b = batting_historical[batting_historical['playerID']=='salech01']\n",
    "# print temp_b[temp_b['yearID']==2016]\n",
    "temp_p = pitching_historical[pitching_historical['playerID']=='salech01']\n",
    "# print temp_p[['HR','yearID','G', 'H','WP']]\n",
    "# print temp_p[temp_p['yearID']==2016]\n",
    "temp_f = fielding_historical[fielding_historical['playerID']=='salech01']\n",
    "# print temp_f[temp_f['yearID']==2016]"
   ]
  },
  {
   "cell_type": "code",
   "execution_count": 3,
   "metadata": {
    "collapsed": true
   },
   "outputs": [],
   "source": [
    "# This section is going to be used to clean-up\n",
    "# column names before creating the stitched \n",
    "# player profiles.\n",
    "\n",
    "batting_historical = batting_historical.rename(columns={'R':'Runs', 'H':'Hits', 'HR':'HomerunsScored', \\\n",
    "                                                        'G':'GamesPlayed','SO':'Strikeouts', 'BB':'BaseOnBalls',\\\n",
    "                                                       '2B':'Doubles', '3B':'Triples','CS':'CSBatting'})\n",
    "\n",
    "pitching_historical = pitching_historical.rename(columns={'G':'GamesPlayed', 'W':'Wins', 'L':'Losses', \\\n",
    "                                                          'CG':'GamesCompleted', 'H':'HitsAgainst', 'HR':'HomerunsAllowed',\\\n",
    "                                                         'R':'RunsAllowed', 'BB':'Walks', 'SH':'SHAgainst', \\\n",
    "                                                          'HBP':'BattersHBP', 'GIDP':'GIDPAllowed', 'SH':'SHAllowed', \\\n",
    "                                                         'IBB':'IBBAllowed', 'SF':'SFAllowed', 'GS':'GamesStarted'})\n",
    "\n",
    "fielding_historical = fielding_historical.rename(columns={'SB':'CatcherSB', 'G':'GamesPlayed'})\n",
    "# Cleanup to fill NANs with 0's to prevent merge from failing\n",
    "# for metrics like Wild Pitches and Zone Rating\n",
    "fielding_historical = fielding_historical.fillna(0)\n",
    "\n",
    "allstar_historical = allstar_historical.rename(columns={'gameNum':'GamesPlayedAS'})"
   ]
  },
  {
   "cell_type": "code",
   "execution_count": null,
   "metadata": {
    "collapsed": true
   },
   "outputs": [],
   "source": [
    "# Verify that Column adjustments worked\n",
    "print batting_historical[batting_historical['yearID']>2015].head(n=1)\n",
    "print pitching_historical[pitching_historical['yearID']>2015].head(n=1)\n",
    "print fielding_historical[fielding_historical['yearID']>2015].head(n=1)\n",
    "print allstar_historical[allstar_historical['yearID']>2015].head(n=1)"
   ]
  },
  {
   "cell_type": "code",
   "execution_count": 5,
   "metadata": {
    "collapsed": true,
    "scrolled": true
   },
   "outputs": [],
   "source": [
    "# temp_sal = salaries_historical[salaries_historical['yearID'] > 2015]\n",
    "temp_bat = batting_historical[batting_historical['yearID'] > 2015]\n",
    "temp_pitch = pitching_historical[pitching_historical['yearID'] > 2015]\n",
    "temp_field = fielding_historical[fielding_historical['yearID'] > 2015]\n",
    "\n",
    "temp1 = pd.merge(temp_bat, temp_pitch, on=['yearID','playerID','teamID','lgID','GamesPlayed','stint'], how='inner')"
   ]
  },
  {
   "cell_type": "code",
   "execution_count": 6,
   "metadata": {},
   "outputs": [
    {
     "name": "stdout",
     "output_type": "stream",
     "text": [
      "   playerID  yearID  stint teamID lgID  GamesPlayed  AB  Runs  Hits  Doubles  \\\n",
      "0  abadfe01    2016      1    MIN   AL           39   1     0     0        0   \n",
      "1  abadfe01    2016      2    BOS   AL           18   0     0     0        0   \n",
      "\n",
      "     ...      PO  A  E  DP  PB  CatcherSB  CS  ZR  WildPitches  isAllStar  \n",
      "0    ...       0  3  0   1   0          0   0   0            0          0  \n",
      "1    ...       0  1  0   0   0          0   0   0            1          0  \n",
      "\n",
      "[2 rows x 58 columns]\n"
     ]
    }
   ],
   "source": [
    "temp2 = pd.merge(temp1, temp_field, on=['yearID','playerID','teamID','lgID','GamesPlayed','stint'], how='inner')\n",
    "\n",
    "# Cleaning up merge\n",
    "temp2['WildPitches'] = temp2['WP_x'].add(temp2['WP_y']).fillna(0)\n",
    "del temp2['WP_x']\n",
    "del temp2['WP_y']\n",
    "\n",
    "# Add all star column to bat+pitch+field table\n",
    "temp2['isAllStar'] = 0\n",
    "# print temp2.head(n=2)\n",
    "print "
   ]
  },
  {
   "cell_type": "code",
   "execution_count": null,
   "metadata": {
    "collapsed": true
   },
   "outputs": [],
   "source": []
  }
 ],
 "metadata": {
  "kernelspec": {
   "display_name": "Python 2",
   "language": "python",
   "name": "python2"
  },
  "language_info": {
   "codemirror_mode": {
    "name": "ipython",
    "version": 2
   },
   "file_extension": ".py",
   "mimetype": "text/x-python",
   "name": "python",
   "nbconvert_exporter": "python",
   "pygments_lexer": "ipython2",
   "version": "2.7.13"
  }
 },
 "nbformat": 4,
 "nbformat_minor": 2
}
