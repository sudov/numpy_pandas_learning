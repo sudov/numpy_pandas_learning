{
 "cells": [
  {
   "cell_type": "code",
   "execution_count": 5,
   "metadata": {},
   "outputs": [],
   "source": [
    "import matplotlib.pyplot as plt\n",
    "import numpy as np\n",
    "import pandas as pd\n",
    "import seaborn as sns\n",
    "\n",
    "filename = 'baseball_core/TeamsFranchises.csv'\n",
    "franchises = pd.read_csv(filename)\n",
    "\n",
    "# filename = '\\baseball_core\\Teams.csv'\n",
    "# teams_hist = pd.read_csv(filename)"
   ]
  },
  {
   "cell_type": "code",
   "execution_count": 6,
   "metadata": {},
   "outputs": [
    {
     "name": "stdout",
     "output_type": "stream",
     "text": [
      "    franchID                     franchName active NAassoc\n",
      "0        ALT          Altoona Mountain City      N     NaN\n",
      "1        ANA  Los Angeles Angels of Anaheim      Y     NaN\n",
      "2        ARI           Arizona Diamondbacks      Y     NaN\n",
      "3        ATH         Philadelphia Athletics      N     PNA\n",
      "4        ATL                 Atlanta Braves      Y     BNA\n",
      "5        BAL              Baltimore Orioles      Y     NaN\n",
      "6        BFB                 Buffalo Bisons      N     NaN\n",
      "7        BFL                 Buffalo Bisons      N     NaN\n",
      "8        BLC             Baltimore Canaries    NaN     NaN\n",
      "9        BLO              Baltimore Orioles      N     NaN\n",
      "10       BLT            Baltimore Terrapins      N     NaN\n",
      "11       BLU          Baltimore Monumentals      N     NaN\n",
      "12       BNA           Boston Red Stockings    NaN     ATL\n",
      "13       BOS                 Boston Red Sox      Y     NaN\n",
      "14       BRA             Brooklyn Atlantics    NaN     NaN\n",
      "15       BRD                    Boston Reds      N     NaN\n",
      "16       BRG            Brooklyn Gladiators      N     NaN\n",
      "17       BRS                    Boston Reds      N     NaN\n",
      "18       BTT              Brooklyn Tip-Tops      N     NaN\n",
      "19       BUF                 Buffalo Bisons      N     NaN\n",
      "20       BWW        Brooklyn Ward's Wonders      N     NaN\n",
      "21       CBK              Columbus Buckeyes      N     NaN\n",
      "22       CBL                Cleveland Blues      N     NaN\n",
      "23       CEN       Philadelphia Centennials    NaN     NaN\n",
      "24       CFC         Cleveland Forest Citys    NaN     NaN\n",
      "25       CHC                   Chicago Cubs      Y     CNA\n",
      "26       CHH                 Chicago Whales      N     NaN\n",
      "27       CHP                Chicago Pirates      N     NaN\n",
      "28       CHW              Chicago White Sox      Y     NaN\n",
      "29       CIN                Cincinnati Reds      Y     NaN\n",
      "..       ...                            ...    ...     ...\n",
      "90       ROK          Rockford Forest Citys    NaN     NaN\n",
      "91       SBS      St. Louis Brown Stockings      N     SNA\n",
      "92       SDP               San Diego Padres      Y     NaN\n",
      "93       SEA               Seattle Mariners      Y     NaN\n",
      "94       SFG           San Francisco Giants      Y     NaN\n",
      "95       SLI             St. Louis Terriers      N     NaN\n",
      "96       SLM              St. Louis Maroons      N     NaN\n",
      "97       SLR        St. Louis Red Stockings    NaN     NaN\n",
      "98       SNA      St. Louis Brown Stockings    NaN     SBS\n",
      "99       STL            St. Louis Cardinals      Y     NaN\n",
      "100      STP              St. Paul Apostles      N     NaN\n",
      "101      SYR                 Syracuse Stars      N     NaN\n",
      "102      SYS                 Syracuse Stars      N     NaN\n",
      "103      TBD                 Tampa Bay Rays      Y     NaN\n",
      "104      TEX                  Texas Rangers      Y     NaN\n",
      "105      TLM                 Toledo Maumees      N     NaN\n",
      "106      TOL          Toledo Blue Stockings      N     NaN\n",
      "107      TOR              Toronto Blue Jays      Y     NaN\n",
      "108      TRO                 Troy Haymakers    NaN     NaN\n",
      "109      TRT                   Troy Trojans      N     NaN\n",
      "110      WAS            Washington Senators      N     NaN\n",
      "111      WBL           Washington Blue Legs    NaN     NaN\n",
      "112      WES                Keokuk Westerns    NaN     NaN\n",
      "113      WIL          Wilmington Quicksteps      N     NaN\n",
      "114      WNA           Washington Nationals      N     NaN\n",
      "115      WNL           Washington Nationals      N     NaN\n",
      "116      WNT           Washington Nationals    NaN     NaN\n",
      "117      WOR            Worcester Ruby Legs      N     NaN\n",
      "118      WSN           Washington Nationals      Y     NaN\n",
      "119      WST           Washington Statesmen      N     NaN\n",
      "\n",
      "[120 rows x 4 columns]\n"
     ]
    }
   ],
   "source": [
    "print franchises"
   ]
  },
  {
   "cell_type": "code",
   "execution_count": null,
   "metadata": {
    "collapsed": true
   },
   "outputs": [],
   "source": []
  }
 ],
 "metadata": {
  "kernelspec": {
   "display_name": "Python 2",
   "language": "python",
   "name": "python2"
  },
  "language_info": {
   "codemirror_mode": {
    "name": "ipython",
    "version": 2
   },
   "file_extension": ".py",
   "mimetype": "text/x-python",
   "name": "python",
   "nbconvert_exporter": "python",
   "pygments_lexer": "ipython2",
   "version": "2.7.13"
  }
 },
 "nbformat": 4,
 "nbformat_minor": 2
}
