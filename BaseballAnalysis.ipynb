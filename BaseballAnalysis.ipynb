{
 "cells": [
  {
   "cell_type": "code",
   "execution_count": 9,
   "metadata": {},
   "outputs": [],
   "source": [
    "import matplotlib.pyplot as plt\n",
    "import numpy as np\n",
    "import pandas as pd\n",
    "import seaborn as sns\n",
    "\n",
    "filename = 'baseball_core/TeamsFranchises.csv'\n",
    "franchises = pd.read_csv(filename)\n",
    "\n",
    "filename1 = 'baseball_core/Teams.csv'\n",
    "team_perf_historical = pd.read_csv(filename1)\n",
    "\n",
    "# Player Specific Statistics\n",
    "filename2 = 'baseball_core/Salaries.csv'\n",
    "salaries_historical = pd.read_csv(filename2)\n",
    "\n",
    "filename3 = 'baseball_core/Batting.csv'\n",
    "batting_historical = pd.read_csv(filename3)\n",
    "\n",
    "filename4 = 'baseball_core/Pitching.csv'\n",
    "pitching_historical = pd.read_csv(filename4)\n",
    "\n",
    "filename5 = 'baseball_core/Fielding.csv'\n",
    "fielding_historical = pd.read_csv(filename5)\n",
    "\n",
    "filename6 = 'baseball_core/Master.csv'\n",
    "master = pd.read_csv(filename6)\n",
    "\n",
    "filename7 = 'baseball_core/AllstarFull.csv'\n",
    "allstar_historical = pd.read_csv(filename7)\n",
    "\n",
    "filename8 = 'baseball_core/SalaryRange.csv'\n",
    "salaryrange_historical = pd.read_csv(filename8)"
   ]
  },
  {
   "cell_type": "code",
   "execution_count": 10,
   "metadata": {},
   "outputs": [],
   "source": [
    "# ----- Extract Player IDs for Debugging -------------\n",
    "# temp = master[master['nameLast']=='Sale']\n",
    "# print temp[temp['nameGiven']=='Christopher']\n",
    "# print master[master['playerID']=='alexasc01']\n",
    "# ----- Results ----- \n",
    "# David Ortiz - ortizda01\n",
    "# Chris Sale - salech01\n",
    "# alexasc01\n",
    "\n",
    "# --------- Does the Data Make Sense? ----------------\n",
    "temp_b = batting_historical[batting_historical['playerID']=='salech01']\n",
    "# print temp_b[temp_b['yearID']==2016]\n",
    "temp_p = pitching_historical[pitching_historical['playerID']=='salech01']\n",
    "# print temp_p[['HR','yearID','G', 'H','WP']]\n",
    "# print temp_p[temp_p['yearID']==2016]\n",
    "temp_f = fielding_historical[fielding_historical['playerID']=='salech01']\n",
    "# print temp_f[temp_f['yearID']==2016]\n",
    "temp_as = allstar_historical[allstar_historical['playerID']=='salech01']\n",
    "# print temp_as[temp_as['yearID']==2016]\n",
    "# print salaryrange_historical"
   ]
  },
  {
   "cell_type": "code",
   "execution_count": 11,
   "metadata": {},
   "outputs": [],
   "source": [
    "# This section is going to be used to clean-up\n",
    "# column names before creating the stitched \n",
    "# player profiles.\n",
    "\n",
    "# Renaming Batting table columns to help with merging\n",
    "batting_historical = batting_historical.rename(columns={'R':'Runs', 'H':'Hits', 'HR':'HomerunsScored', \\\n",
    "                                                        'G':'GamesPlayed','SO':'Strikeouts', 'BB':'BaseOnBalls',\\\n",
    "                                                       '2B':'Doubles', '3B':'Triples','CS':'CSBatting'})\n",
    "\n",
    "# Renaming Pitching table columns to help with merging\n",
    "pitching_historical = pitching_historical.rename(columns={'G':'GamesPlayed', 'W':'Wins', 'L':'Losses', \\\n",
    "                                                          'CG':'GamesCompleted', 'H':'HitsAgainst', 'HR':'HomerunsAllowed',\\\n",
    "                                                         'R':'RunsAllowed', 'BB':'Walks', 'SH':'SHAgainst', \\\n",
    "                                                          'HBP':'BattersHBP', 'GIDP':'GIDPAllowed', 'SH':'SHAllowed', \\\n",
    "                                                         'IBB':'IBBAllowed', 'SF':'SFAllowed', 'GS':'GamesStarted'})\n",
    "\n",
    "# Renaming Fielding table columns to help with merging\n",
    "fielding_historical = fielding_historical.rename(columns={'SB':'CatcherSB', 'G':'GamesPlayed'})\n",
    "# Cleanup to fill NANs with 0's to prevent merge from failing\n",
    "# for metrics like Wild Pitches and Zone Rating\n",
    "fielding_historical = fielding_historical.fillna(0)\n",
    "\n",
    "# The allstar table will be cleaned up to represent a couple things nicely as follows:\n",
    "#     1) We will be using GP column as gameNum attmpts to account\\\n",
    "#         for years with 2 allstar games between 1959-mid 60's\n",
    "#     2) We're setting GP to 0 where the player was selected to play but didn't\\\n",
    "#         actually play. This is to prevent the player from impacting analysis\n",
    "allstar_historical = allstar_historical.rename(columns={'GP':'GamesPlayedAS', 'startingPos':'startingPosAS'})\n",
    "allstar_historical = allstar_historical[['yearID','playerID','teamID','lgID','GamesPlayedAS','startingPosAS']]\n",
    "allstar_historical.ix[pd.isnull(allstar_historical['startingPosAS']), 'GamesPlayedAS'] = 0\n",
    "allstar_historical['startingPosAS'] = allstar_historical['startingPosAS'].fillna(0)\n",
    "\n",
    "# We will need this for fixing salaries on stitched player profiles\n",
    "years = salaryrange_historical.yearID.unique()\n",
    "salaryrange_historical = salaryrange_historical.set_index(['yearID'])"
   ]
  },
  {
   "cell_type": "code",
   "execution_count": 12,
   "metadata": {},
   "outputs": [
    {
     "name": "stdout",
     "output_type": "stream",
     "text": [
      "        playerID  yearID  stint teamID lgID  GamesPlayed  AB  Runs  Hits  \\\n",
      "101333  abadfe01    2016      1    MIN   AL           39   1     0     0   \n",
      "\n",
      "        Doubles  ...   RBI  SB  CSBatting  BaseOnBalls  Strikeouts  IBB  HBP  \\\n",
      "101333        0  ...     0   0          0            0           1    0    0   \n",
      "\n",
      "        SH  SF  GIDP  \n",
      "101333   0   0     0  \n",
      "\n",
      "[1 rows x 22 columns]\n",
      "       playerID  yearID  stint teamID lgID  Wins  Losses  GamesPlayed  \\\n",
      "44139  abadfe01    2016      1    MIN   AL     1       4           39   \n",
      "\n",
      "       GamesStarted  GamesCompleted     ...       IBBAllowed  WP  BattersHBP  \\\n",
      "44139             0               0     ...                2   0           0   \n",
      "\n",
      "       BK  BFP  GF  RunsAllowed  SHAllowed  SFAllowed  GIDPAllowed  \n",
      "44139   1  138   8           11          0          1            6  \n",
      "\n",
      "[1 rows x 30 columns]\n",
      "        playerID  yearID  stint teamID lgID POS  GamesPlayed  GS  InnOuts  PO  \\\n",
      "134862  abadfe01    2016      1    MIN   AL   P           39   0      102   0   \n",
      "\n",
      "        A  E  DP  PB  WP  CatcherSB  CS  ZR  \n",
      "134862  3  0   1   0   0          0   0   0  \n",
      "      yearID   playerID teamID lgID  GamesPlayedAS  startingPosAS\n",
      "5069    2016  altuvjo01    HOU   AL              1              4\n",
      "       yearID teamID lgID   playerID  salary\n",
      "25575    2016    ARI   NL  ahmedni01  521600\n"
     ]
    }
   ],
   "source": [
    "# Verify that Column adjustments worked\n",
    "print batting_historical[batting_historical['yearID']>2015].head(n=1)\n",
    "print pitching_historical[pitching_historical['yearID']>2015].head(n=1)\n",
    "print fielding_historical[fielding_historical['yearID']>2015].head(n=1)\n",
    "print allstar_historical[allstar_historical['yearID']>2015].head(n=1)\n",
    "print salaries_historical[salaries_historical['yearID']>2015].head(n=1)"
   ]
  },
  {
   "cell_type": "code",
   "execution_count": 13,
   "metadata": {
    "collapsed": true,
    "scrolled": true
   },
   "outputs": [],
   "source": [
    "# Here we're going to make a decision to only use data from \n",
    "# 1967 onwards. This is primarily because structured data for\n",
    "# salaries is available only from that year onwards\n",
    "\n",
    "batting_historical = batting_historical[batting_historical['yearID'] > 1966]\n",
    "pitching_historical = pitching_historical[pitching_historical['yearID'] > 1966]\n",
    "fielding_historical = fielding_historical[fielding_historical['yearID'] > 1966]\n",
    "allstar_historical = allstar_historical[allstar_historical['yearID'] > 1966]\n",
    "salaries_historical = salaries_historical[salaries_historical['yearID'] > 1966]\n",
    "\n",
    "# Begin stitching together stats:\n",
    "# 1) Merge Batting and Pitching\n",
    "player_profile = pd.merge(batting_historical, pitching_historical, on=['yearID','playerID','teamID','lgID','GamesPlayed','stint'], how='inner')"
   ]
  },
  {
   "cell_type": "code",
   "execution_count": 14,
   "metadata": {},
   "outputs": [],
   "source": [
    "# 2) Merge Step 1. with Fielding\n",
    "player_profile = pd.merge(player_profile, fielding_historical, on=['yearID','playerID','teamID','lgID','GamesPlayed','stint'], how='inner')\n",
    "\n",
    "# Cleaning up merge\n",
    "player_profile['WildPitches'] = player_profile['WP_x'].add(player_profile['WP_y']).fillna(0)\n",
    "del player_profile['WP_x']\n",
    "del player_profile['WP_y'] "
   ]
  },
  {
   "cell_type": "code",
   "execution_count": 15,
   "metadata": {},
   "outputs": [],
   "source": [
    "# 3) Merge Step 2. with AllStar data\n",
    "player_profile = pd.merge(player_profile, allstar_historical, on=['yearID','playerID','teamID','lgID'], how='left')\n",
    "player_profile[['startingPosAS','GamesPlayedAS']] = player_profile[['startingPosAS','GamesPlayedAS']].fillna(0)"
   ]
  },
  {
   "cell_type": "code",
   "execution_count": 16,
   "metadata": {},
   "outputs": [],
   "source": [
    "# 4) Merge Step 3. with Salary data\n",
    "player_profile = pd.merge(player_profile, salaries_historical, on=['yearID','playerID','teamID','lgID'], how='left')\n",
    "\n",
    "# It turns out that we don't have salary data\n",
    "# for some players in the MLB. However, we do \n",
    "# have minimum and average salary data for the\n",
    "# MLB from 1967 onwards though. For players with\n",
    "# no salary data, we will be using the minimum\n",
    "# salary for that year\n",
    "\n",
    "for year in years:\n",
    "    swap = player_profile[player_profile['yearID']==year]\n",
    "    swap.ix[pd.isnull(swap['salary']), 'salary'] = salaryrange_historical.loc[year]['minSalary'] \n",
    "    player_profile[player_profile['yearID']==year] = swap"
   ]
  },
  {
   "cell_type": "code",
   "execution_count": 17,
   "metadata": {},
   "outputs": [
    {
     "name": "stdout",
     "output_type": "stream",
     "text": [
      "Index([u'playerID', u'yearID', u'stint', u'teamID', u'lgID', u'GamesPlayed',\n",
      "       u'AB', u'Runs', u'Hits', u'Doubles', u'Triples', u'HomerunsScored',\n",
      "       u'RBI', u'SB', u'CSBatting', u'BaseOnBalls', u'Strikeouts', u'IBB',\n",
      "       u'HBP', u'SH', u'SF', u'GIDP', u'Wins', u'Losses', u'GamesStarted',\n",
      "       u'GamesCompleted', u'SHO', u'SV', u'IPouts', u'HitsAgainst', u'ER',\n",
      "       u'HomerunsAllowed', u'Walks', u'SO', u'BAOpp', u'ERA', u'IBBAllowed',\n",
      "       u'BattersHBP', u'BK', u'BFP', u'GF', u'RunsAllowed', u'SHAllowed',\n",
      "       u'SFAllowed', u'GIDPAllowed', u'POS', u'GS', u'InnOuts', u'PO', u'A',\n",
      "       u'E', u'DP', u'PB', u'CatcherSB', u'CS', u'ZR', u'WildPitches',\n",
      "       u'GamesPlayedAS', u'startingPosAS', u'salary'],\n",
      "      dtype='object')\n",
      "    playerID  yearID  stint teamID lgID  GamesPlayed  AB  Runs  Hits  Doubles  \\\n",
      "0  abernte02    1967      1    CIN   NL           70  17     0     1        0   \n",
      "1  adamsmi01    1967      1    BAL   AL            3   2     1     1        0   \n",
      "2  aguirha01    1967      1    DET   AL           31   2     0     1        0   \n",
      "3   akerja01    1967      1    KC1   AL           57   8     0     1        0   \n",
      "4  allenbo04    1967      1    CLE   AL           47   0     0     0        0   \n",
      "\n",
      "    ...    E  DP  PB  CatcherSB  CS  ZR  WildPitches  GamesPlayedAS  \\\n",
      "0   ...    4   0   0          0   0   0            1              0   \n",
      "1   ...    0   0   0          0   0   0            1              0   \n",
      "2   ...    1   0   0          0   0   0            1              0   \n",
      "3   ...    0   3   0          0   0   0            1              0   \n",
      "4   ...    0   0   0          0   0   0            4              0   \n",
      "\n",
      "   startingPosAS  salary  \n",
      "0              0    6000  \n",
      "1              0    6000  \n",
      "2              0    6000  \n",
      "3              0    6000  \n",
      "4              0    6000  \n",
      "\n",
      "[5 rows x 60 columns]\n"
     ]
    }
   ],
   "source": [
    "print player_profile.columns\n",
    "print player_profile.head(n=5)"
   ]
  },
  {
   "cell_type": "code",
   "execution_count": null,
   "metadata": {},
   "outputs": [],
   "source": []
  },
  {
   "cell_type": "code",
   "execution_count": null,
   "metadata": {
    "collapsed": true
   },
   "outputs": [],
   "source": []
  }
 ],
 "metadata": {
  "kernelspec": {
   "display_name": "Python 2",
   "language": "python",
   "name": "python2"
  },
  "language_info": {
   "codemirror_mode": {
    "name": "ipython",
    "version": 2
   },
   "file_extension": ".py",
   "mimetype": "text/x-python",
   "name": "python",
   "nbconvert_exporter": "python",
   "pygments_lexer": "ipython2",
   "version": "2.7.13"
  }
 },
 "nbformat": 4,
 "nbformat_minor": 2
}
